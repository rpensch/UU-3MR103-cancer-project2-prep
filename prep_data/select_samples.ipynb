{
 "cells": [
  {
   "cell_type": "code",
   "execution_count": null,
   "metadata": {},
   "outputs": [],
   "source": [
    "import pandas as pd\n",
    "import seaborn as sns\n",
    "import numpy as np\n",
    "import matplotlib.pyplot as plt\n",
    "from vcf import get_vcf_header"
   ]
  },
  {
   "cell_type": "markdown",
   "metadata": {},
   "source": [
    "# Somatic"
   ]
  },
  {
   "cell_type": "code",
   "execution_count": null,
   "metadata": {},
   "outputs": [],
   "source": [
    "matrix = pd.read_csv('cOSA_test.composite_matrix.tsv.gz', sep = '\\t')"
   ]
  },
  {
   "cell_type": "code",
   "execution_count": 3,
   "metadata": {},
   "outputs": [
    {
     "data": {
      "text/plain": [
       "7"
      ]
     },
     "execution_count": 3,
     "metadata": {},
     "output_type": "execute_result"
    }
   ],
   "source": [
    "# All samples with DLG2 NCCMs\n",
    "chr21 = matrix[(matrix['chrom']=='chr21') & (matrix['sample'].str.startswith('T-WLOS'))]\n",
    "dlg2_samples = chr21[(chr21['phylop']>=1.2) & (chr21['gene_name']=='DLG2_3')]['sample'].unique().tolist()\n",
    "len(dlg2_samples)"
   ]
  },
  {
   "cell_type": "code",
   "execution_count": 5,
   "metadata": {},
   "outputs": [
    {
     "name": "stdout",
     "output_type": "stream",
     "text": [
      "T-WLOS_0015_vs_N-WLOS_0015\n"
     ]
    }
   ],
   "source": [
    "# Need to have different samples than project1 so they actually do the variant calling\n",
    "wlos_samples = matrix[matrix['sample'].str.startswith('T-WLOS')]['sample'].unique().tolist()\n",
    "wlos_samples16 = wlos_samples[:16]\n",
    "wlos_samples16\n",
    "\n",
    "# We already have on included that wasn't in project 1\n",
    "for s in dlg2_samples:\n",
    "    if s not in wlos_samples16:\n",
    "        print(s)"
   ]
  },
  {
   "cell_type": "code",
   "execution_count": 6,
   "metadata": {},
   "outputs": [
    {
     "name": "stdout",
     "output_type": "stream",
     "text": [
      "T-WLOS_0023_vs_N-WLOS_0023\n",
      "T-WLOS_0021_vs_N-WLOS_0021\n",
      "T-WLOS_0022_vs_N-WLOS_0022\n",
      "T-WLOS_0024_vs_N-WLOS_0024\n",
      "T-WLOS_0004_vs_N-WLOS_0004\n",
      "T-WLOS_0005_vs_N-WLOS_0005\n",
      "T-WLOS_0001_vs_N-WLOS_0001\n"
     ]
    }
   ],
   "source": [
    "# More options that can be added\n",
    "for s in wlos_samples:\n",
    "    if s not in wlos_samples16+dlg2_samples:\n",
    "        print(s)"
   ]
  },
  {
   "cell_type": "code",
   "execution_count": 7,
   "metadata": {},
   "outputs": [
    {
     "data": {
      "text/plain": [
       "['T-WLOS_0003_vs_N-WLOS_0003',\n",
       " 'T-WLOS_0012_vs_N-WLOS_0012',\n",
       " 'T-WLOS_0019_vs_N-WLOS_0019',\n",
       " 'T-WLOS_0007_vs_N-WLOS_0007',\n",
       " 'T-WLOS_0006_vs_N-WLOS_0006',\n",
       " 'T-WLOS_0008_vs_N-WLOS_0008',\n",
       " 'T-WLOS_0015_vs_N-WLOS_0015',\n",
       " 'T-WLOS_0005_vs_N-WLOS_0005',\n",
       " 'T-WLOS_0001_vs_N-WLOS_0001',\n",
       " 'T-WLOS_0004_vs_N-WLOS_0004']"
      ]
     },
     "execution_count": 7,
     "metadata": {},
     "output_type": "execute_result"
    }
   ],
   "source": [
    "select_samples = dlg2_samples + ['T-WLOS_0005_vs_N-WLOS_0005','T-WLOS_0001_vs_N-WLOS_0001','T-WLOS_0004_vs_N-WLOS_0004']\n",
    "select_samples"
   ]
  },
  {
   "cell_type": "code",
   "execution_count": 8,
   "metadata": {},
   "outputs": [
    {
     "data": {
      "text/plain": [
       "gene_name\n",
       "DLG2_3                           8\n",
       "NELL1_3                          3\n",
       "GRM5_3                           2\n",
       "LOC106560180_3-BDNF_3            2\n",
       "LOC119864965_2                   2\n",
       "LOC100688359_3-LOC119865078_3    2\n",
       "LOC111091582_3                   2\n",
       "LOC100685849_3                   1\n",
       "LOC111091469_3-LOC119877373      1\n",
       "LOC111091468_3-SLCO2B1_3         1\n",
       "LOC100688359_3                   1\n",
       "LOC100686969_3-LUZP2_3           1\n",
       "TYR_3                            1\n",
       "KCNC1_3                          1\n",
       "FSHB_3                           1\n",
       "FAM76B_3                         1\n",
       "CSRP3_3                          1\n",
       "CNTN5_3                          1\n",
       "CCDC179_3-LOC111091581_3         1\n",
       "BDNF_3-LOC102154783_3            1\n",
       "ANO3_3                           1\n",
       "LOC111091501_3                   1\n",
       "LOC111091613_3-LOC106560181_3    1\n",
       "LOC111091607_3                   1\n",
       "PPME1_3                          1\n",
       "OTOG_3                           1\n",
       "OR52AE1_1                        1\n",
       "OR51F1_3                         1\n",
       "OR2D3H_3                         1\n",
       "OR2D2_3                          1\n",
       "MAML2_3                          1\n",
       "LOC485282_3                      1\n",
       "LOC480784_3                      1\n",
       "LOC119877385-LOC119864967_3      1\n",
       "LOC119877376-LOC119864966_3      1\n",
       "LOC119877373                     1\n",
       "LOC119865081_3-KCNA4_3           1\n",
       "LOC119864969_3-LOC119865090_3    1\n",
       "LOC119864965_2-TENM4_3           1\n",
       "LOC119864902_3-LOC111091469_3    1\n",
       "LOC119864878_2-LOC119877385      1\n",
       "LOC119864860_3                   1\n",
       "ADM_3                            1\n",
       "dtype: int64"
      ]
     },
     "execution_count": 8,
     "metadata": {},
     "output_type": "execute_result"
    }
   ],
   "source": [
    "chr21[(chr21['phylop']>=1.2) & (chr21['sample'].isin(select_samples))].value_counts('gene_name')"
   ]
  },
  {
   "cell_type": "code",
   "execution_count": null,
   "metadata": {},
   "outputs": [],
   "source": [
    "sample_keys = pd.read_csv(\"SRA_samples_ID_conversion.txt\", \n",
    "                sep = '\\t', header = None, names = ['id1','id2','wlos1','wlos2','wlostn'])\n",
    "select_keys = sample_keys[sample_keys['wlostn'].isin(select_samples)]"
   ]
  },
  {
   "cell_type": "code",
   "execution_count": 15,
   "metadata": {},
   "outputs": [
    {
     "data": {
      "text/html": [
       "<div>\n",
       "<style scoped>\n",
       "    .dataframe tbody tr th:only-of-type {\n",
       "        vertical-align: middle;\n",
       "    }\n",
       "\n",
       "    .dataframe tbody tr th {\n",
       "        vertical-align: top;\n",
       "    }\n",
       "\n",
       "    .dataframe thead th {\n",
       "        text-align: right;\n",
       "    }\n",
       "</style>\n",
       "<table border=\"1\" class=\"dataframe\">\n",
       "  <thead>\n",
       "    <tr style=\"text-align: right;\">\n",
       "      <th></th>\n",
       "      <th>id1</th>\n",
       "      <th>id2</th>\n",
       "      <th>wlos1</th>\n",
       "      <th>wlos2</th>\n",
       "      <th>wlostn</th>\n",
       "    </tr>\n",
       "  </thead>\n",
       "  <tbody>\n",
       "    <tr>\n",
       "      <th>2</th>\n",
       "      <td>SRR8691710</td>\n",
       "      <td>SRR8691710_T1</td>\n",
       "      <td>WLOS_0001</td>\n",
       "      <td>T-WLOS_0001</td>\n",
       "      <td>T-WLOS_0001_vs_N-WLOS_0001</td>\n",
       "    </tr>\n",
       "    <tr>\n",
       "      <th>3</th>\n",
       "      <td>SRR8691711</td>\n",
       "      <td>SRR8691711_C2</td>\n",
       "      <td>WLOS_0001</td>\n",
       "      <td>N-WLOS_0001</td>\n",
       "      <td>T-WLOS_0001_vs_N-WLOS_0001</td>\n",
       "    </tr>\n",
       "    <tr>\n",
       "      <th>4</th>\n",
       "      <td>SRR8691712</td>\n",
       "      <td>SRR8691712_T1</td>\n",
       "      <td>WLOS_0004</td>\n",
       "      <td>T-WLOS_0004</td>\n",
       "      <td>T-WLOS_0004_vs_N-WLOS_0004</td>\n",
       "    </tr>\n",
       "    <tr>\n",
       "      <th>5</th>\n",
       "      <td>SRR8691713</td>\n",
       "      <td>SRR8691713_C2</td>\n",
       "      <td>WLOS_0004</td>\n",
       "      <td>N-WLOS_0004</td>\n",
       "      <td>T-WLOS_0004_vs_N-WLOS_0004</td>\n",
       "    </tr>\n",
       "    <tr>\n",
       "      <th>6</th>\n",
       "      <td>SRR8691714</td>\n",
       "      <td>SRR8691714_T1</td>\n",
       "      <td>WLOS_0003</td>\n",
       "      <td>T-WLOS_0003</td>\n",
       "      <td>T-WLOS_0003_vs_N-WLOS_0003</td>\n",
       "    </tr>\n",
       "    <tr>\n",
       "      <th>7</th>\n",
       "      <td>SRR8691715</td>\n",
       "      <td>SRR8691715_C2</td>\n",
       "      <td>WLOS_0003</td>\n",
       "      <td>N-WLOS_0003</td>\n",
       "      <td>T-WLOS_0003_vs_N-WLOS_0003</td>\n",
       "    </tr>\n",
       "    <tr>\n",
       "      <th>8</th>\n",
       "      <td>SRR8691716</td>\n",
       "      <td>SRR8691716_T1</td>\n",
       "      <td>WLOS_0005</td>\n",
       "      <td>T-WLOS_0005</td>\n",
       "      <td>T-WLOS_0005_vs_N-WLOS_0005</td>\n",
       "    </tr>\n",
       "    <tr>\n",
       "      <th>9</th>\n",
       "      <td>SRR8691717</td>\n",
       "      <td>SRR8691717_C2</td>\n",
       "      <td>WLOS_0005</td>\n",
       "      <td>N-WLOS_0005</td>\n",
       "      <td>T-WLOS_0005_vs_N-WLOS_0005</td>\n",
       "    </tr>\n",
       "    <tr>\n",
       "      <th>16</th>\n",
       "      <td>SRR8691724</td>\n",
       "      <td>SRR8691724_C2</td>\n",
       "      <td>WLOS_0012</td>\n",
       "      <td>N-WLOS_0012</td>\n",
       "      <td>T-WLOS_0012_vs_N-WLOS_0012</td>\n",
       "    </tr>\n",
       "    <tr>\n",
       "      <th>17</th>\n",
       "      <td>SRR8691725</td>\n",
       "      <td>SRR8691725_T1</td>\n",
       "      <td>WLOS_0012</td>\n",
       "      <td>T-WLOS_0012</td>\n",
       "      <td>T-WLOS_0012_vs_N-WLOS_0012</td>\n",
       "    </tr>\n",
       "    <tr>\n",
       "      <th>18</th>\n",
       "      <td>SRR8691726</td>\n",
       "      <td>SRR8691726_C2</td>\n",
       "      <td>WLOS_0015</td>\n",
       "      <td>N-WLOS_0015</td>\n",
       "      <td>T-WLOS_0015_vs_N-WLOS_0015</td>\n",
       "    </tr>\n",
       "    <tr>\n",
       "      <th>19</th>\n",
       "      <td>SRR8691727</td>\n",
       "      <td>SRR8691727_T1</td>\n",
       "      <td>WLOS_0015</td>\n",
       "      <td>T-WLOS_0015</td>\n",
       "      <td>T-WLOS_0015_vs_N-WLOS_0015</td>\n",
       "    </tr>\n",
       "    <tr>\n",
       "      <th>20</th>\n",
       "      <td>SRR8691740</td>\n",
       "      <td>SRR8691740_T1</td>\n",
       "      <td>WLOS_0006</td>\n",
       "      <td>T-WLOS_0006</td>\n",
       "      <td>T-WLOS_0006_vs_N-WLOS_0006</td>\n",
       "    </tr>\n",
       "    <tr>\n",
       "      <th>21</th>\n",
       "      <td>SRR8691741</td>\n",
       "      <td>SRR8691741_C2</td>\n",
       "      <td>WLOS_0006</td>\n",
       "      <td>N-WLOS_0006</td>\n",
       "      <td>T-WLOS_0006_vs_N-WLOS_0006</td>\n",
       "    </tr>\n",
       "    <tr>\n",
       "      <th>22</th>\n",
       "      <td>SRR8691742</td>\n",
       "      <td>SRR8691742_T1</td>\n",
       "      <td>WLOS_0007</td>\n",
       "      <td>T-WLOS_0007</td>\n",
       "      <td>T-WLOS_0007_vs_N-WLOS_0007</td>\n",
       "    </tr>\n",
       "    <tr>\n",
       "      <th>23</th>\n",
       "      <td>SRR8691743</td>\n",
       "      <td>SRR8691743_C2</td>\n",
       "      <td>WLOS_0007</td>\n",
       "      <td>N-WLOS_0007</td>\n",
       "      <td>T-WLOS_0007_vs_N-WLOS_0007</td>\n",
       "    </tr>\n",
       "    <tr>\n",
       "      <th>24</th>\n",
       "      <td>SRR8691744</td>\n",
       "      <td>SRR8691744_T1</td>\n",
       "      <td>WLOS_0008</td>\n",
       "      <td>T-WLOS_0008</td>\n",
       "      <td>T-WLOS_0008_vs_N-WLOS_0008</td>\n",
       "    </tr>\n",
       "    <tr>\n",
       "      <th>25</th>\n",
       "      <td>SRR8691745</td>\n",
       "      <td>SRR8691745_C2</td>\n",
       "      <td>WLOS_0008</td>\n",
       "      <td>N-WLOS_0008</td>\n",
       "      <td>T-WLOS_0008_vs_N-WLOS_0008</td>\n",
       "    </tr>\n",
       "    <tr>\n",
       "      <th>44</th>\n",
       "      <td>SRR8691798</td>\n",
       "      <td>SRR8691798_T1</td>\n",
       "      <td>WLOS_0019</td>\n",
       "      <td>T-WLOS_0019</td>\n",
       "      <td>T-WLOS_0019_vs_N-WLOS_0019</td>\n",
       "    </tr>\n",
       "    <tr>\n",
       "      <th>45</th>\n",
       "      <td>SRR8691799</td>\n",
       "      <td>SRR8691799_C2</td>\n",
       "      <td>WLOS_0019</td>\n",
       "      <td>N-WLOS_0019</td>\n",
       "      <td>T-WLOS_0019_vs_N-WLOS_0019</td>\n",
       "    </tr>\n",
       "  </tbody>\n",
       "</table>\n",
       "</div>"
      ],
      "text/plain": [
       "           id1            id2      wlos1        wlos2  \\\n",
       "2   SRR8691710  SRR8691710_T1  WLOS_0001  T-WLOS_0001   \n",
       "3   SRR8691711  SRR8691711_C2  WLOS_0001  N-WLOS_0001   \n",
       "4   SRR8691712  SRR8691712_T1  WLOS_0004  T-WLOS_0004   \n",
       "5   SRR8691713  SRR8691713_C2  WLOS_0004  N-WLOS_0004   \n",
       "6   SRR8691714  SRR8691714_T1  WLOS_0003  T-WLOS_0003   \n",
       "7   SRR8691715  SRR8691715_C2  WLOS_0003  N-WLOS_0003   \n",
       "8   SRR8691716  SRR8691716_T1  WLOS_0005  T-WLOS_0005   \n",
       "9   SRR8691717  SRR8691717_C2  WLOS_0005  N-WLOS_0005   \n",
       "16  SRR8691724  SRR8691724_C2  WLOS_0012  N-WLOS_0012   \n",
       "17  SRR8691725  SRR8691725_T1  WLOS_0012  T-WLOS_0012   \n",
       "18  SRR8691726  SRR8691726_C2  WLOS_0015  N-WLOS_0015   \n",
       "19  SRR8691727  SRR8691727_T1  WLOS_0015  T-WLOS_0015   \n",
       "20  SRR8691740  SRR8691740_T1  WLOS_0006  T-WLOS_0006   \n",
       "21  SRR8691741  SRR8691741_C2  WLOS_0006  N-WLOS_0006   \n",
       "22  SRR8691742  SRR8691742_T1  WLOS_0007  T-WLOS_0007   \n",
       "23  SRR8691743  SRR8691743_C2  WLOS_0007  N-WLOS_0007   \n",
       "24  SRR8691744  SRR8691744_T1  WLOS_0008  T-WLOS_0008   \n",
       "25  SRR8691745  SRR8691745_C2  WLOS_0008  N-WLOS_0008   \n",
       "44  SRR8691798  SRR8691798_T1  WLOS_0019  T-WLOS_0019   \n",
       "45  SRR8691799  SRR8691799_C2  WLOS_0019  N-WLOS_0019   \n",
       "\n",
       "                        wlostn  \n",
       "2   T-WLOS_0001_vs_N-WLOS_0001  \n",
       "3   T-WLOS_0001_vs_N-WLOS_0001  \n",
       "4   T-WLOS_0004_vs_N-WLOS_0004  \n",
       "5   T-WLOS_0004_vs_N-WLOS_0004  \n",
       "6   T-WLOS_0003_vs_N-WLOS_0003  \n",
       "7   T-WLOS_0003_vs_N-WLOS_0003  \n",
       "8   T-WLOS_0005_vs_N-WLOS_0005  \n",
       "9   T-WLOS_0005_vs_N-WLOS_0005  \n",
       "16  T-WLOS_0012_vs_N-WLOS_0012  \n",
       "17  T-WLOS_0012_vs_N-WLOS_0012  \n",
       "18  T-WLOS_0015_vs_N-WLOS_0015  \n",
       "19  T-WLOS_0015_vs_N-WLOS_0015  \n",
       "20  T-WLOS_0006_vs_N-WLOS_0006  \n",
       "21  T-WLOS_0006_vs_N-WLOS_0006  \n",
       "22  T-WLOS_0007_vs_N-WLOS_0007  \n",
       "23  T-WLOS_0007_vs_N-WLOS_0007  \n",
       "24  T-WLOS_0008_vs_N-WLOS_0008  \n",
       "25  T-WLOS_0008_vs_N-WLOS_0008  \n",
       "44  T-WLOS_0019_vs_N-WLOS_0019  \n",
       "45  T-WLOS_0019_vs_N-WLOS_0019  "
      ]
     },
     "execution_count": 15,
     "metadata": {},
     "output_type": "execute_result"
    }
   ],
   "source": [
    "select_keys"
   ]
  },
  {
   "cell_type": "code",
   "execution_count": 24,
   "metadata": {},
   "outputs": [],
   "source": [
    "select_keys[select_keys['wlos2'].str.startswith('T-')][['id2','wlos1']].merge(\n",
    "    select_keys[select_keys['wlos2'].str.startswith('N-')][['id2','wlos1']], on = 'wlos1', suffixes = ['_t','_n'])[['id2_t','id2_n']].to_csv('data/canineOSA.n10.tumor_normal_pairs.txt', sep = '\\t', header = False, index = False)"
   ]
  }
 ],
 "metadata": {
  "kernelspec": {
   "display_name": "Python 3",
   "language": "python",
   "name": "python3"
  },
  "language_info": {
   "codemirror_mode": {
    "name": "ipython",
    "version": 3
   },
   "file_extension": ".py",
   "mimetype": "text/x-python",
   "name": "python",
   "nbconvert_exporter": "python",
   "pygments_lexer": "ipython3",
   "version": "3.6.8"
  }
 },
 "nbformat": 4,
 "nbformat_minor": 2
}
