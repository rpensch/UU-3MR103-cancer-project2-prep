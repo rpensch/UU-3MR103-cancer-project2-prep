{
 "cells": [
  {
   "cell_type": "code",
   "execution_count": 12,
   "metadata": {},
   "outputs": [],
   "source": [
    "import pandas as pd\n",
    "import os\n",
    "from vcf import load_vcf"
   ]
  },
  {
   "cell_type": "markdown",
   "metadata": {},
   "source": [
    "## Constraint filtered vcf files"
   ]
  },
  {
   "cell_type": "markdown",
   "metadata": {},
   "source": [
    "Load VCF"
   ]
  },
  {
   "cell_type": "code",
   "execution_count": 16,
   "metadata": {},
   "outputs": [],
   "source": [
    "results_dir = './UU-3MR103-bioinfo-course-cancer-project2-prep/test_run/results/'\n",
    "vcfs = pd.concat([load_vcf(results_dir+vcf)[['#CHROM','POS','ID','REF','ALT','INFO']] for vcf in os.listdir(results_dir) if vcf.endswith('pass.constraint.vcf.snpeff.vcf.gz')]).reset_index()        "
   ]
  },
  {
   "cell_type": "markdown",
   "metadata": {},
   "source": [
    "Check annotation"
   ]
  },
  {
   "cell_type": "code",
   "execution_count": 17,
   "metadata": {},
   "outputs": [
    {
     "data": {
      "text/plain": [
       "'AS_FilterStatus=SITE;AS_SB_TABLE=20,29|1,3;DP=62;ECNT=2;GERMQ=89;MBQ=33,27;MFRL=257,265;MMQ=60,60;MPOS=35;NALOD=1.17;NLOD=7.73;POPAF=6.00;TLOD=12.31;ANN=CGGGACCCCTGGGTGGCGCAGCGGTTTGGCGCCTGCCTTTGGCCCAGGGCGCG|intergenic_region|MODIFIER|FOLH1B_3-LOC119864955_3|FOLH1B_3-LOC119864955_3|intergenic_region|FOLH1B_3-LOC119864955_3|||n.10581245_10581246insGGGACCCCTGGGTGGCGCAGCGGTTTGGCGCCTGCCTTTGGCCCAGGGCGCG||||||'"
      ]
     },
     "execution_count": 17,
     "metadata": {},
     "output_type": "execute_result"
    }
   ],
   "source": [
    "vcfs['INFO'].loc[0]"
   ]
  },
  {
   "cell_type": "markdown",
   "metadata": {},
   "source": [
    "Extract gene annotation"
   ]
  },
  {
   "cell_type": "code",
   "execution_count": null,
   "metadata": {},
   "outputs": [],
   "source": [
    "def get_annotations(info):\n",
    "\n",
    "    if 'ANN' in info: \n",
    "        annotation = [c.split('|')[3] for c in info.split(';') if c.startswith('ANN=')][0]\n",
    "    else:\n",
    "        annotation = 'unknown'\n",
    "    return annotation\n",
    "\n",
    "vcfs['gene'] = vcfs['INFO'].apply(lambda x: get_annotations(x))"
   ]
  },
  {
   "cell_type": "markdown",
   "metadata": {},
   "source": [
    "Count mutations per gene"
   ]
  },
  {
   "cell_type": "code",
   "execution_count": 20,
   "metadata": {},
   "outputs": [
    {
     "data": {
      "text/plain": [
       "gene\n",
       "DLG2_3       8\n",
       "OTOG_3       6\n",
       "PLEKHA7_3    4\n",
       "NELL1_3      4\n",
       "CLPB_3       3\n",
       "            ..\n",
       "MIR708_3     1\n",
       "MOGAT2_3     1\n",
       "NUMA1_3      1\n",
       "OR10AB2_3    1\n",
       "ADM_3        1\n",
       "Length: 98, dtype: int64"
      ]
     },
     "execution_count": 20,
     "metadata": {},
     "output_type": "execute_result"
    }
   ],
   "source": [
    "vcfs.value_counts('gene')"
   ]
  },
  {
   "cell_type": "markdown",
   "metadata": {},
   "source": [
    "## cCRE filtered vcf files"
   ]
  },
  {
   "cell_type": "markdown",
   "metadata": {},
   "source": [
    "Load"
   ]
  },
  {
   "cell_type": "code",
   "execution_count": null,
   "metadata": {},
   "outputs": [],
   "source": [
    "ccre_vcfs = pd.concat([load_vcf(vcf)[['#CHROM','POS','ID','REF','ALT','INFO']] for vcf in os.listdir('./') if vcf.endswith('pass.cCREs.snpeff.vcf')]).reset_index()        "
   ]
  },
  {
   "cell_type": "markdown",
   "metadata": {},
   "source": [
    "Annotate"
   ]
  },
  {
   "cell_type": "code",
   "execution_count": null,
   "metadata": {},
   "outputs": [],
   "source": [
    "ccre_vcfs['gene'] = ccre_vcfs['INFO'].apply(lambda x: get_annotations(x))a"
   ]
  },
  {
   "cell_type": "markdown",
   "metadata": {},
   "source": [
    "Count mutations"
   ]
  },
  {
   "cell_type": "code",
   "execution_count": 42,
   "metadata": {},
   "outputs": [
    {
     "data": {
      "text/plain": [
       "gene\n",
       "DLG2_3                           6\n",
       "LOC111091565_3                   6\n",
       "AMOTL1_3                         5\n",
       "TENM4_3                          3\n",
       "EED_3                            3\n",
       "                                ..\n",
       "LOC119864951_2                   1\n",
       "RELT_3                           1\n",
       "LOC119864872_3-LOC119864951_2    1\n",
       "RRAS2_3-COPB1_3                  1\n",
       "LOC119865039_2                   1\n",
       "Length: 74, dtype: int64"
      ]
     },
     "execution_count": 42,
     "metadata": {},
     "output_type": "execute_result"
    }
   ],
   "source": [
    "ccre_vcfs.value_counts('gene')"
   ]
  },
  {
   "cell_type": "markdown",
   "metadata": {},
   "source": [
    "Identify positions found in both"
   ]
  },
  {
   "cell_type": "code",
   "execution_count": 46,
   "metadata": {},
   "outputs": [
    {
     "data": {
      "text/plain": [
       "POS\n",
       "31853365    2\n",
       "15081688    2\n",
       "44896580    2\n",
       "40778815    2\n",
       "14611746    2\n",
       "           ..\n",
       "35818312    1\n",
       "35625805    1\n",
       "35244058    1\n",
       "34945220    1\n",
       "851346      1\n",
       "Length: 242, dtype: int64"
      ]
     },
     "execution_count": 46,
     "metadata": {},
     "output_type": "execute_result"
    }
   ],
   "source": [
    "concat = pd.concat([vcfs, ccre_vcfs])\n",
    "concat.value_counts('POS')"
   ]
  }
 ],
 "metadata": {
  "kernelspec": {
   "display_name": "Python 3",
   "language": "python",
   "name": "python3"
  },
  "language_info": {
   "codemirror_mode": {
    "name": "ipython",
    "version": 3
   },
   "file_extension": ".py",
   "mimetype": "text/x-python",
   "name": "python",
   "nbconvert_exporter": "python",
   "pygments_lexer": "ipython3",
   "version": "3.6.8"
  }
 },
 "nbformat": 4,
 "nbformat_minor": 2
}
